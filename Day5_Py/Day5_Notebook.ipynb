{
 "cells": [
  {
   "cell_type": "markdown",
   "metadata": {},
   "source": [
    "# Day 5 of Learning Python - Numpy Journey continue\n",
    "\n",
    "- Yesterday i learned about the basics of numpy, how to declare them, how to acces elements from it, how to slice it in various ways, and for today i am going to continue the video from freecodecamp about numpy in order to learn new things about numpy. ([youtube link](https://www.youtube.com/watch?v=QUT1VHiLmmI&t=2137s)) | [official_github_link](https://github.com/KeithGalli/NumPy). \n",
    "\n",
    "- Again, I want to emphasize that I am not the author of any of the theoretical information presented below. This notebook is purely for learning and practicing variations from what's presented in the video, and I have included the video link to properly credit the original creators.\n",
    "\n",
    "- If there are any concerns regarding the use of this reference, please let me know. I deeply appreciate the educational content provided by freeCodeCamp.\n",
    "\n",
    "- Now let's get the day started"
   ]
  },
  {
   "cell_type": "markdown",
   "metadata": {},
   "source": [
    "## Continuing the section from yesterday"
   ]
  },
  {
   "cell_type": "code",
   "execution_count": 2,
   "metadata": {},
   "outputs": [],
   "source": [
    "import numpy as np"
   ]
  },
  {
   "cell_type": "code",
   "execution_count": null,
   "metadata": {},
   "outputs": [
    {
     "name": "stdout",
     "output_type": "stream",
     "text": [
      "[[1. 1. 1. 1. 1.]\n",
      " [1. 0. 0. 0. 1.]\n",
      " [1. 0. 9. 0. 1.]\n",
      " [1. 0. 0. 0. 1.]\n",
      " [1. 1. 1. 1. 1.]]\n",
      "[[1. 1. 1. 1. 1.]\n",
      " [1. 0. 0. 0. 1.]\n",
      " [1. 0. 9. 0. 1.]\n",
      " [1. 0. 0. 0. 1.]\n",
      " [1. 1. 1. 1. 1.]]\n",
      "[[1. 1. 1. 1. 1.]\n",
      " [1. 0. 0. 0. 1.]\n",
      " [1. 0. 9. 0. 1.]\n",
      " [1. 0. 0. 0. 1.]\n",
      " [1. 1. 1. 1. 1.]]\n"
     ]
    }
   ],
   "source": [
    "#the solution for the last exercise from yesterday\n",
    "a=np.ones((5,5))\n",
    "b=np.zeros((3,3))\n",
    "b[1,1]=9\n",
    "a[1:4,1:4]=b.copy()\n",
    "\n",
    "print(a)\n",
    "#!!!!! SHALLOW VS DEEP COPY \n",
    "\n",
    "# Deep copy\n",
    "b=a.copy()\n",
    "print(b)\n",
    "\n",
    "#Shallow copy - if i modify 1 element in b, the a is afected as well cause they share the same memory zone\n",
    "b=a\n",
    "print(b)"
   ]
  },
  {
   "cell_type": "code",
   "execution_count": null,
   "metadata": {},
   "outputs": [
    {
     "name": "stdout",
     "output_type": "stream",
     "text": [
      "[ 6  8 10 12]\n",
      "[-4 -4 -4 -4]\n",
      "[ 5 12 21 32]\n",
      "[1 2 3 4]\n",
      "[5.         3.         2.33333333 2.        ]\n",
      "[5 3 2 2]\n"
     ]
    }
   ],
   "source": [
    "a=np.array([1,2,3,4])\n",
    "b=np.array([5,6,7,8])\n",
    "\n",
    "\n",
    "print(a+b)\n",
    "print(a-b)\n",
    "print(a*b)\n",
    "print(a%b)\n",
    "print(b/a)\n",
    "print(b//a)\n",
    "print(a**2)\n",
    "\n"
   ]
  },
  {
   "cell_type": "code",
   "execution_count": 24,
   "metadata": {},
   "outputs": [
    {
     "data": {
      "text/plain": [
       "array([ 0.84147098,  0.90929743,  0.14112001, -0.7568025 ])"
      ]
     },
     "execution_count": 24,
     "metadata": {},
     "output_type": "execute_result"
    }
   ],
   "source": [
    "np.sin(a)"
   ]
  },
  {
   "cell_type": "markdown",
   "metadata": {},
   "source": [
    "## Linear Algebra"
   ]
  },
  {
   "cell_type": "code",
   "execution_count": 34,
   "metadata": {},
   "outputs": [
    {
     "name": "stdout",
     "output_type": "stream",
     "text": [
      "[[1. 1. 1.]\n",
      " [1. 1. 1.]]\n",
      "[[2 2]\n",
      " [2 2]\n",
      " [2 2]]\n"
     ]
    },
    {
     "data": {
      "text/plain": [
       "array([[6., 6.],\n",
       "       [6., 6.]])"
      ]
     },
     "execution_count": 34,
     "metadata": {},
     "output_type": "execute_result"
    }
   ],
   "source": [
    "#Multiplying of two matrices\n",
    "a=np.ones((2,3))\n",
    "print(a)\n",
    "\n",
    "b=np.full((3,2),2)\n",
    "print(b)\n",
    "\n",
    "np.matmul(a,b)"
   ]
  },
  {
   "cell_type": "code",
   "execution_count": 35,
   "metadata": {},
   "outputs": [
    {
     "name": "stdout",
     "output_type": "stream",
     "text": [
      "1.0\n"
     ]
    }
   ],
   "source": [
    "#GEtting the determinant\n",
    "c=np.identity(3)\n",
    "\n",
    "print(np.linalg.det(c))"
   ]
  },
  {
   "cell_type": "markdown",
   "metadata": {},
   "source": [
    "## Statistics"
   ]
  },
  {
   "cell_type": "code",
   "execution_count": 50,
   "metadata": {},
   "outputs": [
    {
     "data": {
      "text/plain": [
       "array([[1, 5, 8],\n",
       "       [5, 6, 7]])"
      ]
     },
     "execution_count": 50,
     "metadata": {},
     "output_type": "execute_result"
    }
   ],
   "source": [
    "stats = np.array([[1,5,8],[5,6,7]])\n",
    "stats"
   ]
  },
  {
   "cell_type": "code",
   "execution_count": null,
   "metadata": {},
   "outputs": [
    {
     "name": "stdout",
     "output_type": "stream",
     "text": [
      "1\n"
     ]
    }
   ],
   "source": [
    "# ! if i want the column or line with the biggest numbers , i should use axis in the stats unction 1=line;0=column!!!!!!!\n",
    "print(np.min(stats))"
   ]
  },
  {
   "cell_type": "code",
   "execution_count": 59,
   "metadata": {},
   "outputs": [
    {
     "name": "stdout",
     "output_type": "stream",
     "text": [
      "[8 7]\n",
      "[5 6 8]\n"
     ]
    }
   ],
   "source": [
    "print(np.max(stats,axis=1))\n",
    "print(np.max(stats,axis=0))"
   ]
  },
  {
   "cell_type": "code",
   "execution_count": 40,
   "metadata": {},
   "outputs": [
    {
     "name": "stdout",
     "output_type": "stream",
     "text": [
      "4.0\n"
     ]
    }
   ],
   "source": [
    "print(np.mean(stats))"
   ]
  },
  {
   "cell_type": "code",
   "execution_count": 42,
   "metadata": {},
   "outputs": [
    {
     "name": "stdout",
     "output_type": "stream",
     "text": [
      "4.0\n"
     ]
    }
   ],
   "source": [
    "print(np.median(stats))"
   ]
  },
  {
   "cell_type": "markdown",
   "metadata": {},
   "source": [
    "## Reorganizing Arrays"
   ]
  },
  {
   "cell_type": "code",
   "execution_count": 73,
   "metadata": {},
   "outputs": [
    {
     "name": "stdout",
     "output_type": "stream",
     "text": [
      "[[1 1 1 1]\n",
      " [1 1 1 1]\n",
      " [1 1 1 1]]\n",
      "[[0. 0. 0. 0.]\n",
      " [0. 0. 0. 0.]\n",
      " [0. 0. 0. 0.]]\n"
     ]
    }
   ],
   "source": [
    "a=np.full((3,4),1)\n",
    "\n",
    "b=np.zeros((3,4))\n",
    "\n",
    "print(a)\n",
    "print(b)"
   ]
  },
  {
   "cell_type": "code",
   "execution_count": 80,
   "metadata": {},
   "outputs": [
    {
     "name": "stdout",
     "output_type": "stream",
     "text": [
      "[[1 2 3 4]\n",
      " [5 6 7 8]]\n",
      "[1 2 3 4 5 6 7 8]\n"
     ]
    }
   ],
   "source": [
    "v1=np.array([1,2,3,4])\n",
    "v2=np.array([5,6,7,8])\n",
    "\n",
    "stack = np.vstack([v1,v2])\n",
    "stack2 = np.hstack([v1,v2])\n",
    "\n",
    "print(stack)\n",
    "print(stack2)"
   ]
  },
  {
   "cell_type": "markdown",
   "metadata": {},
   "source": [
    "## Learning extra things"
   ]
  },
  {
   "cell_type": "code",
   "execution_count": 118,
   "metadata": {},
   "outputs": [
    {
     "name": "stdout",
     "output_type": "stream",
     "text": [
      "[[40 69 16 89 64 68 36 24 14 90]\n",
      " [38  6  9 54 16  5 55 86 84 61]\n",
      " [89 18 31 69 74 13 92 23 93 98]]\n"
     ]
    }
   ],
   "source": [
    "#Getting data from a file lke txt\n",
    "text = np.genfromtxt('random_numbers.txt',delimiter=',')\n",
    "\n",
    "text= text.astype('int32')\n",
    "print(text)"
   ]
  },
  {
   "cell_type": "code",
   "execution_count": 120,
   "metadata": {},
   "outputs": [
    {
     "name": "stdout",
     "output_type": "stream",
     "text": [
      "[[False False False False False False False False False False]\n",
      " [False False False False False False False False False False]\n",
      " [False False False False False False False False False False]]\n"
     ]
    }
   ],
   "source": [
    "#poti verifica daca ai anumite valori si sa faci o matrice de true false\n",
    "text = (text > 10) & (text <60)\n",
    "print(text)"
   ]
  },
  {
   "cell_type": "code",
   "execution_count": null,
   "metadata": {},
   "outputs": [
    {
     "name": "stdout",
     "output_type": "stream",
     "text": [
      "[[ 1  2  3  4  5]\n",
      " [ 6  7  8  9 10]\n",
      " [11 12 13 14 15]\n",
      " [16 17 18 19 20]\n",
      " [21 22 23 24 25]\n",
      " [26 27 28 29 30]]\n",
      "[[ 4  5]\n",
      " [24 25]\n",
      " [29 30]]\n"
     ]
    }
   ],
   "source": [
    "#exercitiu practic:\n",
    "\n",
    "matrix1=np.array([[1,2,3,4,5],[6,7,8,9,10],[11,12,13,14,15],[16,17,18,19,20],[21,22,23,24,25],[26,27,28,29,30]])\n",
    "print(matrix1)\n",
    "#or\n",
    "\n",
    "line1=np.array([1,2,3,4,5])\n",
    "line2=np.array([6,7,8,9,10])\n",
    "line3=np.array([11,12,13,14,15])\n",
    "line4=np.array([16,17,18,19,20])\n",
    "line5=np.array([21,22,23,24,25])\n",
    "line6=np.array([26,27,28,29,30])\n",
    "matrix2=np.vstack([line1,line2,line3,line4,line5,line6])\n",
    "\n",
    "#ex1\n",
    "# print(matrix1[2:4,0:2])\n",
    "\n",
    "\n",
    "#ex2\n",
    "# print(matrix1[[0,1,2,3],[1,2,3,4]])\n",
    "\n",
    "#ex3\n",
    "# print(matrix1[0,3:5])\n",
    "# print(matrix1[4,3:5])\n",
    "# print(matrix1[5,3:5])\n",
    "# new_matrix=np.hstack([matrix1[0,3:5],matrix1[4,3:5],matrix1[5,3:5]])\n",
    "\n",
    "# print(new_matrix)\n",
    "\n",
    "print(matrix1[[0,4,5],3:5])\n",
    "\n",
    "\n",
    "#!!! IF I WANNA TAKE AN ARRAY OF ELELMENT THAT ARE 1 PER LINE.COLUMN USE THE EX2, IF I WANT SPECIFIC LINES != NO COLUMNS THEN USE EX3 "
   ]
  }
 ],
 "metadata": {
  "kernelspec": {
   "display_name": ".venv",
   "language": "python",
   "name": "python3"
  },
  "language_info": {
   "codemirror_mode": {
    "name": "ipython",
    "version": 3
   },
   "file_extension": ".py",
   "mimetype": "text/x-python",
   "name": "python",
   "nbconvert_exporter": "python",
   "pygments_lexer": "ipython3",
   "version": "3.13.2"
  }
 },
 "nbformat": 4,
 "nbformat_minor": 2
}
